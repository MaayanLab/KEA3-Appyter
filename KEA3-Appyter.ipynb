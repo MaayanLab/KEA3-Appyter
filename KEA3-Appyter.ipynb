{
 "cells": [
  {
   "cell_type": "code",
   "execution_count": null,
   "metadata": {},
   "outputs": [],
   "source": [
    "#%%appyter init\n",
    "from appyter import magic\n",
    "magic.init(lambda _=globals: _())"
   ]
  },
  {
   "cell_type": "code",
   "execution_count": null,
   "metadata": {},
   "outputs": [],
   "source": [
    "import json\n",
    "import requests\n",
    "from time import sleep\n",
    "from tabulate import tabulate\n",
    "from IPython.display import HTML, display"
   ]
  },
  {
   "cell_type": "code",
   "execution_count": null,
   "metadata": {
    "scrolled": false
   },
   "outputs": [],
   "source": [
    "def get_kea3_results(gene_set, query_name):\n",
    "    ADDLIST_URL = 'https://amp.pharm.mssm.edu/kea3/api/enrich/'\n",
    "    payload = {\n",
    "        'gene_set': gene_set,\n",
    "        'query_name': query_name\n",
    "    }\n",
    "\n",
    "    response = requests.post(ADDLIST_URL, data=json.dumps(payload))\n",
    "    if not response.ok:\n",
    "        raise Exception('Error analyzing gene list')\n",
    "    sleep(1)\n",
    "\n",
    "    return json.loads(response.text)"
   ]
  },
  {
   "cell_type": "code",
   "execution_count": null,
   "metadata": {},
   "outputs": [],
   "source": [
    "%%appyter hide_code\n",
    "\n",
    "{% do SectionField(name ='section', title = 'Perform Kinase Enrichment Analysis (KEA) 3', \n",
    "                   subtitle = 'Kinase Enrichment Analysis 3 (KEA3) infers upstream kinases whose putative substrates are ' +\n",
    "                               'overrepresented in a user-inputted list of genes or differentially phosphorylated proteins. ' +\n",
    "                               'The KEA3 database contains putative kinase-substrate interactions collected from publicly ' +\n",
    "                               'available datasets. Upload -OR- input a gene/protein list to retrieve the top associated kinases.', \n",
    "                   img = 'KEA3_transparent_logo.png')%}"
   ]
  },
  {
   "cell_type": "code",
   "execution_count": null,
   "metadata": {},
   "outputs": [],
   "source": [
    "%%appyter markdown\n",
    "\n",
    "### Generate table containing top associated kinases for different libraries\n",
    "Libraries are supersets of kinase substrate sets that are aggregated based on the database from which they are derived."
   ]
  },
  {
   "cell_type": "code",
   "execution_count": null,
   "metadata": {
    "scrolled": false
   },
   "outputs": [],
   "source": [
    "%%appyter code_exec\n",
    "\n",
    "gene_list_file = {{ FileField(\n",
    "        name = 'Upload gene/protein list',\n",
    "        label = 'Upload gene/protein list',\n",
    "        default = '',\n",
    "        section = 'section'\n",
    "    )}}\n",
    "\n",
    "gene_list_input = {{ TextField(\n",
    "        name = 'Input gene/protein list',\n",
    "        label = 'Input gene/protein list (one per row)',\n",
    "        default = 'ZNF264 \\nTMPO \\nISL2 \\nMAP3K8 \\nEFNB1 \\nEIF3C \\nOSBPL11 \\nABCF1 \\nUTRN \\nOPRK1 \\nTSC1 ' +\n",
    "                    '\\nGAB2 \\nRPS3P2 \\nDDX3X \\nPPP1CA \\nNF2 \\nRBM3 \\nIRAK1 \\nKCNH2 \\nNPR1 \\nMOCOS \\nITSN2 ' +\n",
    "                    '\\nMITF \\nARAF \\nDAPK2 \\nEPHB2 \\nCACNA1G \\nYWHAZ \\nGMFB',\n",
    "        section = 'section',\n",
    "    )}}\n",
    "\n",
    "# Number of ranked kinases to display\n",
    "num_kinases = {{ IntField(\n",
    "        name = 'Input number of top kinases to display',\n",
    "        label = 'Number of top kinases to display',\n",
    "        description = 'Input any integer from 1 to 100',\n",
    "        default = 10,\n",
    "        min = 1, \n",
    "        max = 100,\n",
    "        section = 'section'\n",
    "    )}}\n",
    "\n",
    "input_exists = False \n",
    "\n",
    "if gene_list_file != '':\n",
    "    open_gene_list_file = open(gene_list_file,'r')\n",
    "    lines = open_gene_list_file.readlines()\n",
    "    genes = [x.strip() for x in lines]\n",
    "    open_gene_list_file.close()\n",
    "    input_exists = True \n",
    "elif gene_list_input != '':\n",
    "    genes = gene_list_input.split('\\n')\n",
    "    genes = [x.strip() for x in genes]\n",
    "    input_exists = True \n",
    "else:\n",
    "    display(HTML('<h2>No kinase list was inputted or uploaded.</h2>'))\n",
    "\n",
    "if input_exists:\n",
    "    results = get_kea3_results(genes, 'Query')\n",
    "\n",
    "    # Create dictionary of dictionaries for the top 10 kinases for each ranking type\n",
    "    # Format: rankings['Rank Type'] = {1: Kinase, 2: Kinase, 3: Kinase, ...}\n",
    "    rankings = {}\n",
    "    for library in range(0, 13):\n",
    "        rankings[list(results.keys())[library]] = {}\n",
    "        for rank in range(1, num_kinases+1):\n",
    "            rankings[list(results.keys())[library]].update({rank: list(results.values())[library][rank-1]['TF']})\n",
    "\n",
    "    # Create list of lists\n",
    "    # Format: ranks[0] will contain all of the #1 kinases for each ranking type \n",
    "    ranks = []\n",
    "    for rank_num in range(0, num_kinases+1):\n",
    "        ranks.append([rank_num+1])\n",
    "\n",
    "    for library in range(0, 13):\n",
    "        for rank in range(1, num_kinases+1):\n",
    "            ranks[rank-1].append(list(rankings[list(results.keys())[library]].values())[rank-1])\n",
    "\n",
    "    list_all_rankings = []\n",
    "    for num in range(0, num_kinases):\n",
    "        list_all_rankings.append(ranks[num])\n",
    "    \n",
    "    list_all_headers = []\n",
    "    for library in range(0, 13):\n",
    "        list_all_headers.append(list(rankings.keys())[library])\n",
    "            \n",
    "    display(HTML(tabulate(list_all_rankings, headers = list_all_headers, tablefmt = 'html' )))\n"
   ]
  }
 ],
 "metadata": {
  "kernelspec": {
   "display_name": "my-first-appyter",
   "language": "python",
   "name": "my-first-appyter"
  },
  "language_info": {
   "codemirror_mode": {
    "name": "ipython",
    "version": 3
   },
   "file_extension": ".py",
   "mimetype": "text/x-python",
   "name": "python",
   "nbconvert_exporter": "python",
   "pygments_lexer": "ipython3",
   "version": "3.7.2"
  }
 },
 "nbformat": 4,
 "nbformat_minor": 4
}
